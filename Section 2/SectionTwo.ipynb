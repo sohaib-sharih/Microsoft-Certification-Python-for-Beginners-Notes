{
 "cells": [
  {
   "cell_type": "code",
   "execution_count": 3,
   "metadata": {},
   "outputs": [
    {
     "name": "stdout",
     "output_type": "stream",
     "text": [
      "sohaib sharih is a <class 'str'>\n"
     ]
    }
   ],
   "source": [
    "ballA = 'sohaib sharih'\n",
    "print(f\"{ballA} is a {type(ballA)}\")"
   ]
  },
  {
   "cell_type": "code",
   "execution_count": 15,
   "metadata": {},
   "outputs": [
    {
     "name": "stdout",
     "output_type": "stream",
     "text": [
      "today is 2023-12-15\n",
      "2023-12-15\n"
     ]
    }
   ],
   "source": [
    "from datetime import date\n",
    "\n",
    "ballB = date.today()\n",
    "\n",
    "print(f\"today is {str(ballB)}\")\n",
    "# print(str(ballB))\n",
    "print(ballB)"
   ]
  },
  {
   "cell_type": "code",
   "execution_count": 23,
   "metadata": {},
   "outputs": [
    {
     "name": "stdout",
     "output_type": "stream",
     "text": [
      "c:\\Users\\USER\\anaconda3\\envs\\py311\\Lib\\site-packages\\ipykernel_launcher.py\n",
      "--f=c:\\Users\\USER\\AppData\\Roaming\\jupyter\\runtime\\kernel-v2-27525zZKylEsZduT.json\n"
     ]
    }
   ],
   "source": [
    "import sys\n",
    "print(sys.argv[0])\n",
    "print(sys.argv[1])\n",
    "# print(sys.argv[2])\n"
   ]
  }
 ],
 "metadata": {
  "kernelspec": {
   "display_name": "py311",
   "language": "python",
   "name": "python3"
  },
  "language_info": {
   "codemirror_mode": {
    "name": "ipython",
    "version": 3
   },
   "file_extension": ".py",
   "mimetype": "text/x-python",
   "name": "python",
   "nbconvert_exporter": "python",
   "pygments_lexer": "ipython3",
   "version": "3.11.5"
  }
 },
 "nbformat": 4,
 "nbformat_minor": 2
}
